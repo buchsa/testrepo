{
  "nbformat": 4,
  "nbformat_minor": 0,
  "metadata": {
    "colab": {
      "provenance": [],
      "authorship_tag": "ABX9TyN+X5bjiwzPJ0m+SMoR4Z/t",
      "include_colab_link": true
    },
    "kernelspec": {
      "name": "python3",
      "display_name": "Python 3"
    },
    "language_info": {
      "name": "python"
    }
  },
  "cells": [
    {
      "cell_type": "markdown",
      "metadata": {
        "id": "view-in-github",
        "colab_type": "text"
      },
      "source": [
        "<a href=\"https://colab.research.google.com/github/buchsa/testrepo/blob/main/BuniWeek1.ipynb\" target=\"_parent\"><img src=\"https://colab.research.google.com/assets/colab-badge.svg\" alt=\"Open In Colab\"/></a>"
      ]
    },
    {
      "cell_type": "markdown",
      "source": [
        "Part A - Data Structures"
      ],
      "metadata": {
        "id": "jb9FMiXdXFeS"
      }
    },
    {
      "cell_type": "code",
      "source": [
        "#1 Create a List of numbers 1-10\n",
        "num = [1, 2, 3, 4, 5, 6, 7, 8, 9, 10]\n",
        "print(num)"
      ],
      "metadata": {
        "colab": {
          "base_uri": "https://localhost:8080/"
        },
        "id": "ZjeY_NXbXbUu",
        "outputId": "f518c15c-f844-4578-f91b-e66755a2282c"
      },
      "execution_count": null,
      "outputs": [
        {
          "output_type": "stream",
          "name": "stdout",
          "text": [
            "[1, 2, 3, 4, 5, 6, 7, 8, 9, 10]\n"
          ]
        }
      ]
    },
    {
      "cell_type": "code",
      "source": [
        "#Add new number to list\n",
        "num.append(11)\n",
        "print(num)"
      ],
      "metadata": {
        "colab": {
          "base_uri": "https://localhost:8080/"
        },
        "id": "2rhRlO_aaKtb",
        "outputId": "16ef23b8-9612-4d09-aa23-6b73d5d39618"
      },
      "execution_count": null,
      "outputs": [
        {
          "output_type": "stream",
          "name": "stdout",
          "text": [
            "[1, 2, 3, 4, 5, 6, 7, 8, 9, 10, 11]\n"
          ]
        }
      ]
    },
    {
      "cell_type": "code",
      "source": [
        "#Remove one number from the list\n",
        "num.pop(3) #Removed item in 4 index\n",
        "print(num)"
      ],
      "metadata": {
        "colab": {
          "base_uri": "https://localhost:8080/"
        },
        "id": "5hFG6Ek6a4gk",
        "outputId": "5fc2d44c-1ef7-4f12-dbf2-386a328ed2bc"
      },
      "execution_count": null,
      "outputs": [
        {
          "output_type": "stream",
          "name": "stdout",
          "text": [
            "[1, 2, 3, 5, 6, 7, 8, 9, 10, 11]\n"
          ]
        }
      ]
    },
    {
      "cell_type": "code",
      "source": [
        "#2 Create a tuple of 5 city names\n",
        "cities =(\"Soroti\", \"Mbale\", \"Jinja\", \"Kampala\", \"Masaka\")\n",
        "print(cities)"
      ],
      "metadata": {
        "colab": {
          "base_uri": "https://localhost:8080/"
        },
        "id": "5HU722p2bS36",
        "outputId": "73b46797-7e6a-482b-8aec-9c3e8a73e701"
      },
      "execution_count": null,
      "outputs": [
        {
          "output_type": "stream",
          "name": "stdout",
          "text": [
            "('Soroti', 'Mbale', 'Jinja', 'Kampala', 'Masaka')\n"
          ]
        }
      ]
    },
    {
      "cell_type": "code",
      "source": [
        "#Attempting to edit one - Explanation - tuples are immutable\n",
        "cities[1] = \"me\"\n",
        "print(cities)"
      ],
      "metadata": {
        "colab": {
          "base_uri": "https://localhost:8080/",
          "height": 176
        },
        "id": "52ZUbJGYclQ5",
        "outputId": "7502dcda-a08d-48e1-f204-83bc38b1d125"
      },
      "execution_count": null,
      "outputs": [
        {
          "output_type": "error",
          "ename": "TypeError",
          "evalue": "'tuple' object does not support item assignment",
          "traceback": [
            "\u001b[0;31m---------------------------------------------------------------------------\u001b[0m",
            "\u001b[0;31mTypeError\u001b[0m                                 Traceback (most recent call last)",
            "\u001b[0;32m<ipython-input-28-c52d17d12d7c>\u001b[0m in \u001b[0;36m<cell line: 0>\u001b[0;34m()\u001b[0m\n\u001b[1;32m      1\u001b[0m \u001b[0;31m#Attempting to edit one\u001b[0m\u001b[0;34m\u001b[0m\u001b[0;34m\u001b[0m\u001b[0m\n\u001b[0;32m----> 2\u001b[0;31m \u001b[0mcities\u001b[0m\u001b[0;34m[\u001b[0m\u001b[0;36m1\u001b[0m\u001b[0;34m]\u001b[0m \u001b[0;34m=\u001b[0m \u001b[0;34m\"me\"\u001b[0m\u001b[0;34m\u001b[0m\u001b[0;34m\u001b[0m\u001b[0m\n\u001b[0m\u001b[1;32m      3\u001b[0m \u001b[0mprint\u001b[0m\u001b[0;34m(\u001b[0m\u001b[0mcities\u001b[0m\u001b[0;34m)\u001b[0m\u001b[0;34m\u001b[0m\u001b[0;34m\u001b[0m\u001b[0m\n",
            "\u001b[0;31mTypeError\u001b[0m: 'tuple' object does not support item assignment"
          ]
        }
      ]
    },
    {
      "cell_type": "code",
      "source": [
        "#3 Create a set of student names.\n",
        "students = {\"Buni\",\"Marco\", \"Faustin\", \"Conrad\"}\n",
        "print(students)"
      ],
      "metadata": {
        "colab": {
          "base_uri": "https://localhost:8080/"
        },
        "id": "NBs1eDZHdR8y",
        "outputId": "21aa2b1a-6edc-464b-f0e1-675f636e8d2f"
      },
      "execution_count": null,
      "outputs": [
        {
          "output_type": "stream",
          "name": "stdout",
          "text": [
            "{'Buni', 'Marco', 'Faustin', 'Conrad'}\n"
          ]
        }
      ]
    },
    {
      "cell_type": "code",
      "source": [
        "#Add a duplicate & observe what happens - Re\n",
        "students2 = {\"Buni\",\"Francsi\", \"Xavier\"}\n",
        "AllStudents = students.union(students2)\n",
        "print(AllStudents)\n",
        "#Sets do not contain duplicates"
      ],
      "metadata": {
        "colab": {
          "base_uri": "https://localhost:8080/"
        },
        "id": "CJ1sJENNdrbz",
        "outputId": "543b0249-4ffb-4a19-abb5-e1328e044836"
      },
      "execution_count": null,
      "outputs": [
        {
          "output_type": "stream",
          "name": "stdout",
          "text": [
            "{'Buni', 'Faustin', 'Conrad', 'Francsi', 'Marco', 'Xavier'}\n"
          ]
        }
      ]
    },
    {
      "cell_type": "code",
      "source": [
        "#4 Create a dictionary for name, age and email\n",
        "person = {\"Name\":\"Wes\", \"Age\":\"85\", \"Email\":\"wes@stress.com\"}\n",
        "print(person)"
      ],
      "metadata": {
        "colab": {
          "base_uri": "https://localhost:8080/"
        },
        "id": "4cy7Ccc2fPl4",
        "outputId": "e6ef29c5-6cd1-4bd2-ccd2-0f9b0d75be6a"
      },
      "execution_count": null,
      "outputs": [
        {
          "output_type": "stream",
          "name": "stdout",
          "text": [
            "{'Name': 'Wes', 'Age': '85', 'Email': 'wes@stress.com'}\n"
          ]
        }
      ]
    },
    {
      "cell_type": "code",
      "source": [
        "#Update the email & print all keys & values\n",
        "person[\"Email\"] = \"Wes@hatewatch.com\"\n",
        "print(person.keys())\n",
        "print(person.values())\n",
        "print(person)"
      ],
      "metadata": {
        "colab": {
          "base_uri": "https://localhost:8080/"
        },
        "id": "HJYxglGckL_B",
        "outputId": "12fdd1da-3f33-4039-db6d-8efd770557d6"
      },
      "execution_count": null,
      "outputs": [
        {
          "output_type": "stream",
          "name": "stdout",
          "text": [
            "dict_keys(['Name', 'Age', 'Email'])\n",
            "dict_values(['Wes', '85', 'Wes@hatewatch.com'])\n",
            "{'Name': 'Wes', 'Age': '85', 'Email': 'Wes@hatewatch.com'}\n"
          ]
        }
      ]
    },
    {
      "cell_type": "markdown",
      "source": [
        "Part B - Control Flow"
      ],
      "metadata": {
        "id": "4Z5aOmN5km3H"
      }
    },
    {
      "cell_type": "code",
      "source": [
        "#1 Write a loop that prints whether each number from 1-20 is odd or even\n",
        "for i in range(1,21):\n",
        "    if i%2 ==0:\n",
        "        print (f\"{i} is even\")\n",
        "    else:\n",
        "        print(f\"{i} is odd\")"
      ],
      "metadata": {
        "colab": {
          "base_uri": "https://localhost:8080/"
        },
        "id": "z_bc886MkqnR",
        "outputId": "4850683e-0f1f-4b11-893e-9f954dbed1c5"
      },
      "execution_count": null,
      "outputs": [
        {
          "output_type": "stream",
          "name": "stdout",
          "text": [
            "1 is odd\n",
            "2 is even\n",
            "3 is odd\n",
            "4 is even\n",
            "5 is odd\n",
            "6 is even\n",
            "7 is odd\n",
            "8 is even\n",
            "9 is odd\n",
            "10 is even\n",
            "11 is odd\n",
            "12 is even\n",
            "13 is odd\n",
            "14 is even\n",
            "15 is odd\n",
            "16 is even\n",
            "17 is odd\n",
            "18 is even\n",
            "19 is odd\n",
            "20 is even\n"
          ]
        }
      ]
    },
    {
      "cell_type": "code",
      "source": [
        "#2 Use a loop to iterate over dictionary from Part A & print keys & values\n",
        "for x,y in person.items(): #Used the .item() function to open the dictionary\n",
        "  print(x,y)"
      ],
      "metadata": {
        "colab": {
          "base_uri": "https://localhost:8080/"
        },
        "id": "2cvlfjWdrUUF",
        "outputId": "e116a74f-f641-4796-d338-f523dcd5bd24"
      },
      "execution_count": null,
      "outputs": [
        {
          "output_type": "stream",
          "name": "stdout",
          "text": [
            "Name Wes\n",
            "Age 85\n",
            "Email Wes@hatewatch.com\n"
          ]
        }
      ]
    },
    {
      "cell_type": "code",
      "source": [
        "#3 Program to grade student marks\n",
        "mark = round(float(input(\"Please input student mark:\"))) #User to input any marks, system to round result to nearest whole integer. Did to avoid printing 100 results\n",
        "if 0 <= mark <= 100: #Enforce the range of marks being between 0 - 100\n",
        "  if mark >=80:\n",
        "    print(f\"{mark}% is an A\")\n",
        "  elif mark >= 70:\n",
        "      print(f\"{mark}% is a B\")\n",
        "  elif mark >= 60:\n",
        "    print(f\"{mark}% is a C\")\n",
        "  elif mark >= 50:\n",
        "    print(f\"{mark}% is a D\")\n",
        "  else:\n",
        "    print(f\"{mark}% is an F\")\n",
        "# Had errors from input of numbers above 100 or strings captured. Will handle next time"
      ],
      "metadata": {
        "colab": {
          "base_uri": "https://localhost:8080/"
        },
        "id": "HBKwJ4rHuvKI",
        "outputId": "aa8caff5-e918-4359-ffd0-643e626e2d5d"
      },
      "execution_count": null,
      "outputs": [
        {
          "output_type": "stream",
          "name": "stdout",
          "text": [
            "Please input student mark:20\n",
            "20% is an F\n"
          ]
        }
      ]
    },
    {
      "cell_type": "markdown",
      "source": [
        "Part C - Functions & Modular Code"
      ],
      "metadata": {
        "id": "u_MyDw_j7XBg"
      }
    },
    {
      "cell_type": "code",
      "source": [
        "#1 Define a function calculate_mean() returning the mean\n",
        "def average(data):\n",
        "  total = sum(data) #The inbuilt sum function adds up all items in a list\n",
        "  count = len(data) #The inbuilt len function counts the no. of items in a list\n",
        "  return [total/count] #This is the mathematical formula to calculate the mean\n",
        "  #The above 3 lines could ideally be one single line\n",
        "\n",
        "list = [1, 2, 3, 4, 5]\n",
        "new = average(list)\n",
        "print(f\"The average of the list is {new}\")"
      ],
      "metadata": {
        "colab": {
          "base_uri": "https://localhost:8080/"
        },
        "id": "_W9bGrfy7a4A",
        "outputId": "6bd6da9e-744d-4880-f02e-70f458855207"
      },
      "execution_count": null,
      "outputs": [
        {
          "output_type": "stream",
          "name": "stdout",
          "text": [
            "The average of the list is [3.0]\n"
          ]
        }
      ]
    },
    {
      "cell_type": "code",
      "source": [
        "#2 Create module with 2 functions greet_user(name), square_number(n)\n",
        "#utils.py - File saved as a python file\n",
        "def greet_user(name):\n",
        "  print(\"Hello, \" + name)\n",
        "def square_number(n):\n",
        "  return n ** 2"
      ],
      "metadata": {
        "id": "4oVO0QMuF2T0"
      },
      "execution_count": 5,
      "outputs": []
    },
    {
      "cell_type": "code",
      "source": [
        "#Create a Package called Week1\n",
        "# __init__.py - Create an empty .py file in the Package\n",
        "# utils.py - Add the module to the package"
      ],
      "metadata": {
        "id": "wb67cAJvnERB"
      },
      "execution_count": null,
      "outputs": []
    },
    {
      "cell_type": "code",
      "source": [
        "#Main Script - Import & use the functions\n",
        "from week1 import utils as u\n",
        "g = f\"Welcome, {u.greet_user('Kabode')}\"\n",
        "s = f\"the suare of the number is {u.square_number(2)}\"\n",
        "print(g, s)\n",
        "\n",
        "# This will throw an error since we didnt save the package & the modules in it\n",
        "# Thus, we couldnt import successfully (Assignment done on colab)"
      ],
      "metadata": {
        "colab": {
          "base_uri": "https://localhost:8080/",
          "height": 384
        },
        "id": "CAT4ChSVuEVs",
        "outputId": "7bb5a4a2-64e9-4fd2-f760-e3dc318d3bf7"
      },
      "execution_count": 9,
      "outputs": [
        {
          "output_type": "error",
          "ename": "ModuleNotFoundError",
          "evalue": "No module named 'week1'",
          "traceback": [
            "\u001b[0;31m---------------------------------------------------------------------------\u001b[0m",
            "\u001b[0;31mModuleNotFoundError\u001b[0m                       Traceback (most recent call last)",
            "\u001b[0;32m<ipython-input-9-3f46b38a277b>\u001b[0m in \u001b[0;36m<cell line: 0>\u001b[0;34m()\u001b[0m\n\u001b[1;32m      1\u001b[0m \u001b[0;31m#Main Script - Import & use the functions\u001b[0m\u001b[0;34m\u001b[0m\u001b[0;34m\u001b[0m\u001b[0m\n\u001b[0;32m----> 2\u001b[0;31m \u001b[0;32mfrom\u001b[0m \u001b[0mweek1\u001b[0m \u001b[0;32mimport\u001b[0m \u001b[0mutils\u001b[0m \u001b[0;32mas\u001b[0m \u001b[0mu\u001b[0m\u001b[0;34m\u001b[0m\u001b[0;34m\u001b[0m\u001b[0m\n\u001b[0m\u001b[1;32m      3\u001b[0m \u001b[0mg\u001b[0m \u001b[0;34m=\u001b[0m \u001b[0;34mf\"Welcome, {u.greet_user('Kabode')}\"\u001b[0m\u001b[0;34m\u001b[0m\u001b[0;34m\u001b[0m\u001b[0m\n\u001b[1;32m      4\u001b[0m \u001b[0ms\u001b[0m \u001b[0;34m=\u001b[0m \u001b[0;34mf\"the suare of the number is {u.square_number(2)}\"\u001b[0m\u001b[0;34m\u001b[0m\u001b[0;34m\u001b[0m\u001b[0m\n\u001b[1;32m      5\u001b[0m \u001b[0mprint\u001b[0m\u001b[0;34m(\u001b[0m\u001b[0mg\u001b[0m\u001b[0;34m,\u001b[0m \u001b[0ms\u001b[0m\u001b[0;34m)\u001b[0m\u001b[0;34m\u001b[0m\u001b[0;34m\u001b[0m\u001b[0m\n",
            "\u001b[0;31mModuleNotFoundError\u001b[0m: No module named 'week1'",
            "",
            "\u001b[0;31m---------------------------------------------------------------------------\u001b[0;32m\nNOTE: If your import is failing due to a missing package, you can\nmanually install dependencies using either !pip or !apt.\n\nTo view examples of installing some common dependencies, click the\n\"Open Examples\" button below.\n\u001b[0;31m---------------------------------------------------------------------------\u001b[0m\n"
          ],
          "errorDetails": {
            "actions": [
              {
                "action": "open_url",
                "actionText": "Open Examples",
                "url": "/notebooks/snippets/importing_libraries.ipynb"
              }
            ]
          }
        }
      ]
    },
    {
      "cell_type": "markdown",
      "source": [
        "Part D - Error Handling"
      ],
      "metadata": {
        "id": "YvsN91j7zeTe"
      }
    },
    {
      "cell_type": "code",
      "source": [
        "#A prog that divides 2 user nos. (I guess next time presented itself)\n",
        "while True: #Used a loop to continously prompt till a valid no1 is imput\n",
        "  try:\n",
        "    no1 = float(input(\"Please enter first No.\"))\n",
        "    break #if input is true, exit loop\n",
        "  except ValueError: #validate that input is strictly a number\n",
        "    print(\"Please strictly enter only numbers\")\n",
        "\n",
        "while True: # loop till valid no2 is input\n",
        "  try:\n",
        "    no2 = float(input(\"Please enter second No.\"))\n",
        "    break #if input is true, exit loop\n",
        "  except ValueError: #validate that input is strictly a number\n",
        "    print(\"Please strictly enter only numbers\")\n",
        "\n",
        "#Function to devide\n",
        "def division(a, b):\n",
        "  return a/b\n",
        "\n",
        "try: #Attempt to use the function\n",
        "  div = division(no1, no2)\n",
        "except ZeroDivisionError: #If no2 is a zero, capture the ZeroDivisionError\n",
        "  print(\"You cannot divide a number by 0\") #Custom Message for the error\n",
        "else: #if all conditions met, proceed & execute function\n",
        "    print(f\"When you divide {no1} by {no2} the answer is {div}\")\n",
        "finally:\n",
        "    print(\"Thank you for this stress\")"
      ],
      "metadata": {
        "colab": {
          "base_uri": "https://localhost:8080/"
        },
        "id": "qAaP0mgxzXuP",
        "outputId": "6af752ab-3462-405a-94d9-c7da52778f80"
      },
      "execution_count": 32,
      "outputs": [
        {
          "output_type": "stream",
          "name": "stdout",
          "text": [
            "Please enter first No.w\n",
            "Please strictly enter only numbers\n",
            "Please enter first No.3\n",
            "Please enter second No.w\n",
            "Please strictly enter only numbers\n",
            "Please enter second No.3\n",
            "When you divide 3.0 by 3.0 the answer is 1.0\n",
            "Thank you for this stress\n"
          ]
        }
      ]
    },
    {
      "cell_type": "markdown",
      "source": [
        "Bonus (Optional)\n",
        "Create a basic studnet score analyzer\n",
        "*   Ask for student names & marks\n",
        "*   Store them in a dictionary\n",
        "*   Output the highest, lowest & average mark"
      ],
      "metadata": {
        "id": "hCrzgj4eE03u"
      }
    },
    {
      "cell_type": "code",
      "source": [
        "#Have questions - Is it a user input?, how many students or open ended?"
      ],
      "metadata": {
        "id": "ZHFzMvmxE4gA"
      },
      "execution_count": null,
      "outputs": []
    }
  ]
}